{
  "nbformat": 4,
  "nbformat_minor": 0,
  "metadata": {
    "colab": {
      "provenance": [],
      "authorship_tag": "ABX9TyOKbgUfTk5EdR1hvCM3/e5b",
      "include_colab_link": true
    },
    "kernelspec": {
      "name": "python3",
      "display_name": "Python 3"
    },
    "language_info": {
      "name": "python"
    }
  },
  "cells": [
    {
      "cell_type": "markdown",
      "metadata": {
        "id": "view-in-github",
        "colab_type": "text"
      },
      "source": [
        "<a href=\"https://colab.research.google.com/github/mustafaabadshah/Generating-Keywords-for-Google-Ads-SMB/blob/main/Generating_Keywords_for_Google_Ads_BY_MUSTAFA_BADSHAH.ipynb\" target=\"_parent\"><img src=\"https://colab.research.google.com/assets/colab-badge.svg\" alt=\"Open In Colab\"/></a>"
      ]
    },
    {
      "cell_type": "markdown",
      "source": [
        "1. The brief\n",
        "\n",
        "Imagine working for a digital marketing agency, and the agency is approached by a massive online retailer of furniture. They want to test our skills at creating large campaigns for all of their website. We are tasked with creating a prototype set of keywords for search campaigns for their sofas section. The client says that they want us to generate keywords for the following products:\n",
        "\n",
        "    sofas\n",
        "    convertible sofas\n",
        "    love seats\n",
        "    recliners\n",
        "    sofa beds\n",
        "\n",
        "The brief: The client is generally a low-cost retailer, offering many promotions and discounts. We will need to focus on such keywords. We will also need to move away from luxury keywords and topics, as we are targeting price-sensitive customers. Because we are going to be tight on budget, it would be good to focus on a tightly targeted set of keywords and make sure they are all set to exact and phrase match.\n",
        "\n",
        "Based on the brief above we will first need to generate a list of words, that together with the products given above would make for good keywords. Here are some examples:\n",
        "\n",
        "    Products: sofas, recliners\n",
        "    Words: buy, prices\n",
        "\n",
        "The resulting keywords: 'buy sofas', 'sofas buy', 'buy recliners', 'recliners buy', 'prices sofas', 'sofas prices', 'prices recliners', 'recliners prices'.\n",
        "\n",
        "As a final result, we want to have a DataFrame that looks like this:\n",
        "Campaign\tAd Group\tKeyword\tCriterion Type\n",
        "Campaign1\tAdGroup_1\tkeyword 1a\tExact\n",
        "Campaign1\tAdGroup_1\tkeyword 1a\tPhrase\n",
        "Campaign1\tAdGroup_1\tkeyword 1b\tExact\n",
        "Campaign1\tAdGroup_1\tkeyword 1b\tPhrase\n",
        "Campaign1\tAdGroup_2\tkeyword 2a\tExact\n",
        "Campaign1\tAdGroup_2\tkeyword 2a\tPhrase\n",
        "\n",
        "The first step is to come up with a list of words that users might use to express their desire in buying low-cost sofas."
      ],
      "metadata": {
        "id": "M8KIIBw3fT8j"
      }
    },
    {
      "cell_type": "code",
      "source": [
        "# List of words to pair with products\n",
        "# List of words to pair with products\n",
        "words =['buy', 'price', 'discount', 'promotion', 'promo', 'shop',\n",
        "         'pricing', 'shopping', 'discounts',  'ecommerce', ]\n",
        "\n",
        "\n",
        "# Print list of words\n",
        "# ... YOUR CODE FOR TASK 1 ...\n",
        "words"
      ],
      "metadata": {
        "colab": {
          "base_uri": "https://localhost:8080/"
        },
        "id": "UEeqAy_Bfci8",
        "outputId": "d6dcc05e-5a6b-476f-de1e-fc6b31481615"
      },
      "execution_count": 2,
      "outputs": [
        {
          "output_type": "execute_result",
          "data": {
            "text/plain": [
              "['buy',\n",
              " 'price',\n",
              " 'discount',\n",
              " 'promotion',\n",
              " 'promo',\n",
              " 'shop',\n",
              " 'pricing',\n",
              " 'shopping',\n",
              " 'discounts',\n",
              " 'ecommerce']"
            ]
          },
          "metadata": {},
          "execution_count": 2
        }
      ]
    },
    {
      "cell_type": "markdown",
      "source": [
        "2. Combine the words with the product names\n",
        "\n",
        "Imagining all the possible combinations of keywords can be stressful! But not for us, because we are keyword ninjas! We know how to translate campaign briefs into Python data structures and can imagine the resulting DataFrames that we need to create.\n",
        "\n",
        "Now that we have brainstormed the words that work well with the brief that we received, it is now time to combine them with the product names to generate meaningful search keywords. We want to combine every word with every product once before, and once after, as seen in the example above.\n",
        "\n",
        "As a quick reminder, for the product 'recliners' and the words 'buy' and 'price' for example, we would want to generate the following combinations:\n",
        "\n",
        "buy recliners\n",
        "recliners buy\n",
        "price recliners\n",
        "recliners price\n",
        "…\n",
        "\n",
        "and so on for all the words and products that we have."
      ],
      "metadata": {
        "id": "wNd89MhofkIr"
      }
    },
    {
      "cell_type": "code",
      "source": [
        "products = ['sofas', 'convertible sofas', 'love seats', 'recliners', 'sofa beds']\n",
        "\n",
        "# Create an empty list\n",
        "keywords_list = []\n",
        "\n",
        "# Loop through products\n",
        "for product in products:\n",
        "    # Loop through words\n",
        "    for word in words:\n",
        "        # Append combinations\n",
        "        keywords_list.append([product, product + ' ' + word])\n",
        "        keywords_list.append([product, word + ' ' + product])\n",
        "\n",
        "# Inspect keyword list\n",
        "from pprint import pprint\n",
        "pprint(keywords_list)"
      ],
      "metadata": {
        "colab": {
          "base_uri": "https://localhost:8080/"
        },
        "id": "Mc_kNA2OfjGQ",
        "outputId": "97cef599-11f0-4668-f643-e0c6d8bd7d32"
      },
      "execution_count": 3,
      "outputs": [
        {
          "output_type": "stream",
          "name": "stdout",
          "text": [
            "[['sofas', 'sofas buy'],\n",
            " ['sofas', 'buy sofas'],\n",
            " ['sofas', 'sofas price'],\n",
            " ['sofas', 'price sofas'],\n",
            " ['sofas', 'sofas discount'],\n",
            " ['sofas', 'discount sofas'],\n",
            " ['sofas', 'sofas promotion'],\n",
            " ['sofas', 'promotion sofas'],\n",
            " ['sofas', 'sofas promo'],\n",
            " ['sofas', 'promo sofas'],\n",
            " ['sofas', 'sofas shop'],\n",
            " ['sofas', 'shop sofas'],\n",
            " ['sofas', 'sofas pricing'],\n",
            " ['sofas', 'pricing sofas'],\n",
            " ['sofas', 'sofas shopping'],\n",
            " ['sofas', 'shopping sofas'],\n",
            " ['sofas', 'sofas discounts'],\n",
            " ['sofas', 'discounts sofas'],\n",
            " ['sofas', 'sofas ecommerce'],\n",
            " ['sofas', 'ecommerce sofas'],\n",
            " ['convertible sofas', 'convertible sofas buy'],\n",
            " ['convertible sofas', 'buy convertible sofas'],\n",
            " ['convertible sofas', 'convertible sofas price'],\n",
            " ['convertible sofas', 'price convertible sofas'],\n",
            " ['convertible sofas', 'convertible sofas discount'],\n",
            " ['convertible sofas', 'discount convertible sofas'],\n",
            " ['convertible sofas', 'convertible sofas promotion'],\n",
            " ['convertible sofas', 'promotion convertible sofas'],\n",
            " ['convertible sofas', 'convertible sofas promo'],\n",
            " ['convertible sofas', 'promo convertible sofas'],\n",
            " ['convertible sofas', 'convertible sofas shop'],\n",
            " ['convertible sofas', 'shop convertible sofas'],\n",
            " ['convertible sofas', 'convertible sofas pricing'],\n",
            " ['convertible sofas', 'pricing convertible sofas'],\n",
            " ['convertible sofas', 'convertible sofas shopping'],\n",
            " ['convertible sofas', 'shopping convertible sofas'],\n",
            " ['convertible sofas', 'convertible sofas discounts'],\n",
            " ['convertible sofas', 'discounts convertible sofas'],\n",
            " ['convertible sofas', 'convertible sofas ecommerce'],\n",
            " ['convertible sofas', 'ecommerce convertible sofas'],\n",
            " ['love seats', 'love seats buy'],\n",
            " ['love seats', 'buy love seats'],\n",
            " ['love seats', 'love seats price'],\n",
            " ['love seats', 'price love seats'],\n",
            " ['love seats', 'love seats discount'],\n",
            " ['love seats', 'discount love seats'],\n",
            " ['love seats', 'love seats promotion'],\n",
            " ['love seats', 'promotion love seats'],\n",
            " ['love seats', 'love seats promo'],\n",
            " ['love seats', 'promo love seats'],\n",
            " ['love seats', 'love seats shop'],\n",
            " ['love seats', 'shop love seats'],\n",
            " ['love seats', 'love seats pricing'],\n",
            " ['love seats', 'pricing love seats'],\n",
            " ['love seats', 'love seats shopping'],\n",
            " ['love seats', 'shopping love seats'],\n",
            " ['love seats', 'love seats discounts'],\n",
            " ['love seats', 'discounts love seats'],\n",
            " ['love seats', 'love seats ecommerce'],\n",
            " ['love seats', 'ecommerce love seats'],\n",
            " ['recliners', 'recliners buy'],\n",
            " ['recliners', 'buy recliners'],\n",
            " ['recliners', 'recliners price'],\n",
            " ['recliners', 'price recliners'],\n",
            " ['recliners', 'recliners discount'],\n",
            " ['recliners', 'discount recliners'],\n",
            " ['recliners', 'recliners promotion'],\n",
            " ['recliners', 'promotion recliners'],\n",
            " ['recliners', 'recliners promo'],\n",
            " ['recliners', 'promo recliners'],\n",
            " ['recliners', 'recliners shop'],\n",
            " ['recliners', 'shop recliners'],\n",
            " ['recliners', 'recliners pricing'],\n",
            " ['recliners', 'pricing recliners'],\n",
            " ['recliners', 'recliners shopping'],\n",
            " ['recliners', 'shopping recliners'],\n",
            " ['recliners', 'recliners discounts'],\n",
            " ['recliners', 'discounts recliners'],\n",
            " ['recliners', 'recliners ecommerce'],\n",
            " ['recliners', 'ecommerce recliners'],\n",
            " ['sofa beds', 'sofa beds buy'],\n",
            " ['sofa beds', 'buy sofa beds'],\n",
            " ['sofa beds', 'sofa beds price'],\n",
            " ['sofa beds', 'price sofa beds'],\n",
            " ['sofa beds', 'sofa beds discount'],\n",
            " ['sofa beds', 'discount sofa beds'],\n",
            " ['sofa beds', 'sofa beds promotion'],\n",
            " ['sofa beds', 'promotion sofa beds'],\n",
            " ['sofa beds', 'sofa beds promo'],\n",
            " ['sofa beds', 'promo sofa beds'],\n",
            " ['sofa beds', 'sofa beds shop'],\n",
            " ['sofa beds', 'shop sofa beds'],\n",
            " ['sofa beds', 'sofa beds pricing'],\n",
            " ['sofa beds', 'pricing sofa beds'],\n",
            " ['sofa beds', 'sofa beds shopping'],\n",
            " ['sofa beds', 'shopping sofa beds'],\n",
            " ['sofa beds', 'sofa beds discounts'],\n",
            " ['sofa beds', 'discounts sofa beds'],\n",
            " ['sofa beds', 'sofa beds ecommerce'],\n",
            " ['sofa beds', 'ecommerce sofa beds']]\n"
          ]
        }
      ]
    },
    {
      "cell_type": "markdown",
      "source": [
        "3. Convert the list of lists into a DataFrame\n",
        "\n",
        "Now we want to convert this list of lists into a DataFrame so we can easily manipulate it and manage the final output."
      ],
      "metadata": {
        "id": "s1ua7kJafric"
      }
    },
    {
      "cell_type": "code",
      "source": [
        "import pandas as pd\n",
        "# Create a DataFrame from list\n",
        "keywords_df = pd.DataFrame(keywords_list)"
      ],
      "metadata": {
        "id": "bDzeFyP7fsOM"
      },
      "execution_count": 4,
      "outputs": []
    },
    {
      "cell_type": "markdown",
      "source": [
        "4. Rename the columns of the DataFrame\n",
        "\n",
        "Before we can upload this table of keywords, we will need to give the columns meaningful names. If we inspect the DataFrame we just created above, we can see that the columns are currently named 0 and 1. Ad Group (example: \"sofas\") and Keyword (example: \"sofas buy\") are much more appropriate names."
      ],
      "metadata": {
        "id": "htdKEpdjfx-r"
      }
    },
    {
      "cell_type": "code",
      "source": [
        "# Rename the columns of the DataFrame\n",
        "# Rename the columns of the DataFrame\n",
        "keywords_df = keywords_df.rename(columns={0: 'Ad Group', 1: 'Keyword'})"
      ],
      "metadata": {
        "id": "faI7NYxcf3o3"
      },
      "execution_count": 5,
      "outputs": []
    },
    {
      "cell_type": "markdown",
      "source": [
        "5. Add a campaign column\n",
        "\n",
        "Now we need to add some additional information to our DataFrame. We need a new column called Campaign for the campaign name. We want campaign names to be descriptive of our group of keywords and products, so let's call this campaign 'SEM_Sofas'."
      ],
      "metadata": {
        "id": "_Q1vLKSWf4d5"
      }
    },
    {
      "cell_type": "code",
      "source": [
        "# Add a campaign column\n",
        "keywords_df['Campaign'] = 'SEM_Sofas'"
      ],
      "metadata": {
        "id": "ENuVDvG9f7_5"
      },
      "execution_count": 6,
      "outputs": []
    },
    {
      "cell_type": "markdown",
      "source": [
        "6. Create the match type column\n",
        "\n",
        "There are different keyword match types. One is exact match, which is for matching the exact term or are close variations of that exact term. Another match type is broad match, which means ads may show on searches that include misspellings, synonyms, related searches, and other relevant variations.\n",
        "\n",
        "Straight from Google's AdWords documentation\n",
        "\n",
        ":\n",
        "\n",
        "    In general, the broader the match type, the more traffic potential that keyword will have, since your ads may be triggered more often. Conversely, a narrower match type means that your ads may show less often—but when they do, they’re likely to be more related to someone’s search.\n",
        "\n",
        "Since the client is tight on budget, we want to make sure all the keywords are in exact match at the beginning.\n"
      ],
      "metadata": {
        "id": "QBAvGLaXgBBI"
      }
    },
    {
      "cell_type": "code",
      "source": [
        "# Add a criterion type column\n",
        "keywords_df['Criterion Type']='Exact'"
      ],
      "metadata": {
        "id": "JuOGVDbAgC9V"
      },
      "execution_count": 7,
      "outputs": []
    },
    {
      "cell_type": "markdown",
      "source": [
        "7. Duplicate all the keywords into 'phrase' match\n",
        "\n",
        "The great thing about exact match is that it is very specific, and we can control the process very well. The tradeoff, however, is that:\n",
        "\n",
        "    The search volume for exact match is lower than other match types\n",
        "    We can't possibly think of all the ways in which people search, and so, we are probably missing out on some high-quality keywords.\n",
        "\n",
        "So it's good to use another match called phrase match as a discovery mechanism to allow our ads to be triggered by keywords that include our exact match keywords, together with anything before (or after) them.\n",
        "\n",
        "Later on, when we launch the campaign, we can explore with modified broad match, broad match, and negative match types, for better visibility and control of our campaigns."
      ],
      "metadata": {
        "id": "NXj5JtVsgIW3"
      }
    },
    {
      "cell_type": "code",
      "source": [
        "# Make a copy of the keywords DataFrame\n",
        "keywords_phrase = keywords_df.copy()\n",
        "\n",
        "# Change criterion type match to phrase\n",
        "keywords_phrase['Criterion Type'] = 'Phrase'\n",
        "\n",
        "# Append the DataFrames\n",
        "keywords_df_final = keywords_df.append(keywords_phrase)"
      ],
      "metadata": {
        "colab": {
          "base_uri": "https://localhost:8080/"
        },
        "id": "VLSFz-kpgJXU",
        "outputId": "4a81a3dd-cd27-4d83-8b73-6ade294655f8"
      },
      "execution_count": 8,
      "outputs": [
        {
          "output_type": "stream",
          "name": "stderr",
          "text": [
            "<ipython-input-8-305d4b24620a>:8: FutureWarning: The frame.append method is deprecated and will be removed from pandas in a future version. Use pandas.concat instead.\n",
            "  keywords_df_final = keywords_df.append(keywords_phrase)\n"
          ]
        }
      ]
    },
    {
      "cell_type": "markdown",
      "source": [
        "## 8. Save and summarize!\n",
        "<p>To upload our campaign, we need to save it as a CSV file. Then we will be able to import it to AdWords editor or BingAds editor. There is also the option of pasting the data into the editor if we want, but having easy access to the saved data is great so let's save to a CSV file!</p>\n",
        "<p>Looking at a summary of our campaign structure is good now that we've wrapped up our keyword work. We can do that by grouping by ad group and criterion type and counting by keyword. This summary shows us that we assigned specific keywords to specific ad groups, which are each part of a campaign. In essence, we are telling Google (or Bing, etc.) that we want any of the words in each ad group to trigger one of the ads in the same ad group. Separately, we will have to create another table for ads, which is a task for another day and would look something like this:</p>\n",
        "<table>\n",
        "<thead>\n",
        "<tr>\n",
        "<th>Campaign</th>\n",
        "<th>Ad Group</th>\n",
        "<th>Headline 1</th>\n",
        "<th>Headline 2</th>\n",
        "<th>Description</th>\n",
        "<th>Final URL</th>\n",
        "</tr>\n",
        "</thead>\n",
        "<tbody>\n",
        "<tr>\n",
        "<td>SEM_Sofas</td>\n",
        "<td>Sofas</td>\n",
        "<td>Looking for Quality Sofas?</td>\n",
        "<td>Explore Our Massive Collection</td>\n",
        "<td>30-day Returns With Free Delivery Within the US. Start Shopping Now</td>\n",
        "<td>DataCampSofas.com/sofas</td>\n",
        "</tr>\n",
        "<tr>\n",
        "<td>SEM_Sofas</td>\n",
        "<td>Sofas</td>\n",
        "<td>Looking for Affordable Sofas?</td>\n",
        "<td>Check Out Our Weekly Offers</td>\n",
        "<td>30-day Returns With Free Delivery Within the US. Start Shopping Now</td>\n",
        "<td>DataCampSofas.com/sofas</td>\n",
        "</tr>\n",
        "<tr>\n",
        "<td>SEM_Sofas</td>\n",
        "<td>Recliners</td>\n",
        "<td>Looking for Quality Recliners?</td>\n",
        "<td>Explore Our Massive Collection</td>\n",
        "<td>30-day Returns With Free Delivery Within the US. Start Shopping Now</td>\n",
        "<td>DataCampSofas.com/recliners</td>\n",
        "</tr>\n",
        "<tr>\n",
        "<td>SEM_Sofas</td>\n",
        "<td>Recliners</td>\n",
        "<td>Need Affordable Recliners?</td>\n",
        "<td>Check Out Our Weekly Offers</td>\n",
        "<td>30-day Returns With Free Delivery Within the US. Start Shopping Now</td>\n",
        "<td>DataCampSofas.com/recliners</td>\n",
        "</tr>\n",
        "</tbody>\n",
        "</table>\n",
        "<p>Together, these tables get us the sample <strong>keywords -> ads -> landing pages</strong> mapping shown in the diagram below.</p>\n",
        "<p><img src=\"https://assets.datacamp.com/production/project_400/img/kwds_ads_lpages.png\" alt=\"Keywords-Ads-Landing pages flow\"></p>"
      ],
      "metadata": {
        "id": "dkbPKj6rgQAH"
      }
    },
    {
      "cell_type": "code",
      "source": [
        "# Save the final keywords to a CSV file\n",
        "keywords_df_final.to_csv('keywords.csv',index=False)\n",
        "# View a summary of our campaign work\n",
        "summary = keywords_df_final.groupby(['Ad Group', 'Criterion Type'])['Keyword'].count()\n",
        "print(summary)"
      ],
      "metadata": {
        "colab": {
          "base_uri": "https://localhost:8080/"
        },
        "id": "860YqsUXgkWz",
        "outputId": "4eaa7961-3149-4be1-fa07-efc25fe27b38"
      },
      "execution_count": 9,
      "outputs": [
        {
          "output_type": "stream",
          "name": "stdout",
          "text": [
            "Ad Group           Criterion Type\n",
            "convertible sofas  Exact             20\n",
            "                   Phrase            20\n",
            "love seats         Exact             20\n",
            "                   Phrase            20\n",
            "recliners          Exact             20\n",
            "                   Phrase            20\n",
            "sofa beds          Exact             20\n",
            "                   Phrase            20\n",
            "sofas              Exact             20\n",
            "                   Phrase            20\n",
            "Name: Keyword, dtype: int64\n"
          ]
        }
      ]
    }
  ]
}